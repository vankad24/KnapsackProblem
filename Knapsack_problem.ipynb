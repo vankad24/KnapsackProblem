{
  "nbformat": 4,
  "nbformat_minor": 0,
  "metadata": {
    "colab": {
      "provenance": []
    },
    "kernelspec": {
      "name": "python3",
      "display_name": "Python 3"
    },
    "language_info": {
      "name": "python"
    }
  },
  "cells": [
    {
      "cell_type": "code",
      "source": [
        "import math\n",
        "from functools import reduce\n",
        "from IPython.display import display, Markdown\n",
        "\n",
        "# text = \"|hi|234|\\n|-|-|\\n|-|asdf|\"\n",
        "# display(Markdown(text))\n",
        "def printmd(text):\n",
        "  display(Markdown(text))"
      ],
      "metadata": {
        "id": "2XMk06nueG7O"
      },
      "execution_count": null,
      "outputs": []
    },
    {
      "cell_type": "markdown",
      "source": [
        "##Ввод данных"
      ],
      "metadata": {
        "id": "hMrTcD1du3pb"
      }
    },
    {
      "cell_type": "code",
      "source": [
        "arr = [\n",
        "    \"10\",\n",
        "    \"3\",\n",
        "    \"2 7\", #кукуруза\n",
        "    \"0 100\",\n",
        "    \"2 10\", #помидоры\n",
        "    \"0 2\",\n",
        "    \"3 3\", #бобы\n",
        "    \"1 100\",\n",
        "]"
      ],
      "metadata": {
        "id": "1UpftHkWQH1L"
      },
      "execution_count": null,
      "outputs": []
    },
    {
      "cell_type": "code",
      "source": [
        "arr = [\n",
        "    \"10\",\n",
        "    \"3\",\n",
        "    \"2 14\",\n",
        "    \"0 2\",\n",
        "    \"4 40\",\n",
        "    \"0 100\",\n",
        "    \"8 31\",\n",
        "    \"0 1\",\n",
        "]"
      ],
      "metadata": {
        "id": "cJS_C6UROdpx"
      },
      "execution_count": null,
      "outputs": []
    },
    {
      "cell_type": "code",
      "source": [
        "arr = [\n",
        "    \"10\",\n",
        "    \"3\",\n",
        "    \"2 14\",\n",
        "    \"0 2\",\n",
        "    \"4 40\",\n",
        "    \"0 100\",\n",
        "    \"8 31\",\n",
        "    \"0 1\",\n",
        "]"
      ],
      "metadata": {
        "id": "3q6sMDIfNDXR"
      },
      "execution_count": null,
      "outputs": []
    },
    {
      "cell_type": "code",
      "source": [
        "arr = [\n",
        "    \"4\",\n",
        "    \"3\",\n",
        "    \"1 14\",\n",
        "    \"0 100\",\n",
        "    \"3 47\",\n",
        "    \"0 100\",\n",
        "    \"2 31\",\n",
        "    \"0 200\",\n",
        "]"
      ],
      "metadata": {
        "id": "wpdQhuPIHohn"
      },
      "execution_count": null,
      "outputs": []
    },
    {
      "cell_type": "code",
      "source": [
        "arr = [\n",
        "    \"0.7\",\n",
        "    \"3\",\n",
        "    \"0.1 14\",\n",
        "    \"1 1\",\n",
        "    \"0.3 40\",\n",
        "    \"1 100\",\n",
        "    \"0.2 31\",\n",
        "    \"0 1\",\n",
        "]"
      ],
      "metadata": {
        "id": "VpticTAifI9D"
      },
      "execution_count": null,
      "outputs": []
    },
    {
      "cell_type": "code",
      "source": [
        "read_index = -1\n",
        "def read(msg):\n",
        "  print(msg)\n",
        "  global read_index\n",
        "  read_index+=1\n",
        "  return arr[read_index]"
      ],
      "metadata": {
        "id": "8zmgtGakcafM"
      },
      "execution_count": null,
      "outputs": []
    },
    {
      "cell_type": "code",
      "source": [
        "def read(msg):\n",
        "  return input(msg)"
      ],
      "metadata": {
        "id": "CR3mYUyjcJ16"
      },
      "execution_count": null,
      "outputs": []
    },
    {
      "cell_type": "code",
      "execution_count": null,
      "metadata": {
        "id": "pmHdexF2dpuh",
        "colab": {
          "base_uri": "https://localhost:8080/"
        },
        "outputId": "62cd7b7c-126f-4598-c6a7-74e4d00853cf"
      },
      "outputs": [
        {
          "output_type": "stream",
          "name": "stdout",
          "text": [
            "Total weight\n",
            "Number of items\n",
            "Wi and Pi\n",
            "min and max Ui (limits)\n",
            "Wi and Pi\n",
            "min and max Ui (limits)\n",
            "Wi and Pi\n",
            "min and max Ui (limits)\n",
            "[0.1, 0.3, 0.2, 0.3]\n",
            "[[0.1, 14.0], [0.3, 40.0], [0.2, 31.0]]\n",
            "[[1, 0], [1, 99], [0, 1]]\n"
          ]
        }
      ],
      "source": [
        "read_index = -1\n",
        "\n",
        "real_weight = float(read(\"Total weight\")) #вес всего рюкзака\n",
        "weight = real_weight\n",
        "num_items = int(read(\"Number of items\")) #количество предметов\n",
        "items = []\n",
        "limits = [] # нижняя и верхняя граница по количеству предметов\n",
        "all_weightes = [] #для подсчёта шага\n",
        "for i in range(num_items):\n",
        "  # вес и цена каждого предмета\n",
        "  wi, pi = map(lambda x: float(x), read(\"Wi and Pi\").split())\n",
        "  l_lim, r_lim = map(lambda x: int(x), read(\"min and max Ui (limits)\").split()) #правое и левое ограничение\n",
        "  all_weightes.append(wi)\n",
        "  items.append([wi,pi])\n",
        "  limits.append([l_lim, r_lim-l_lim])\n",
        "  weight -= wi*l_lim\n",
        "weight = round(weight,4)\n",
        "all_weightes.append(weight)\n",
        "print(all_weightes)\n",
        "print(items)\n",
        "print(limits)"
      ]
    },
    {
      "cell_type": "markdown",
      "source": [
        "##Подготовка"
      ],
      "metadata": {
        "id": "FY7Okyhwux96"
      }
    },
    {
      "cell_type": "code",
      "source": [
        "def nod(a,b):\n",
        "  if a == 0:\n",
        "    return b\n",
        "  elif b == 0:\n",
        "    return a\n",
        "  elif a>b:\n",
        "    return nod(a%b,b)\n",
        "  else:\n",
        "    return nod(b%a,a)\n",
        "\n",
        "max_digits = 0\n",
        "for i in range(len(all_weightes)):\n",
        "  digits = 0\n",
        "  s = str(all_weightes[i])\n",
        "  if \".\" in s:\n",
        "    digits = len(s.split(\".\")[1])\n",
        "  if digits > max_digits:\n",
        "    max_digits = digits\n",
        "\n",
        "\n",
        "ratio = 10 ** max_digits #на сколько все числа домножаем\n",
        "step = reduce(nod, map(lambda x: int(x*ratio), all_weightes))/ratio\n",
        "print(step)\n",
        "\n",
        "answers = [[]] #массивы с f(x)* и u* для каждого этапа\n",
        "iterations = math.ceil(weight/step)+1 #количество строк в каждой таблице. +1 т.к. с нулём\n",
        "\n",
        "for i in range(iterations):\n",
        "  answers[0].append([0]) #заполяняем первый массив нулями, чтобы первая итерация работала (костыль)"
      ],
      "metadata": {
        "id": "wV-89nOEu0Wk",
        "colab": {
          "base_uri": "https://localhost:8080/"
        },
        "outputId": "58532fcb-acab-4448-959e-e3e6ca0734c5"
      },
      "execution_count": null,
      "outputs": [
        {
          "output_type": "stream",
          "name": "stdout",
          "text": [
            "0.1\n"
          ]
        }
      ]
    },
    {
      "cell_type": "markdown",
      "source": [
        "##Решение"
      ],
      "metadata": {
        "id": "qX1k7bwIjZbg"
      }
    },
    {
      "cell_type": "code",
      "source": [
        "temp = []\n",
        "text = \"\"\n",
        "for item_index in range(num_items):\n",
        "  temp = []\n",
        "  wi, pi = items[item_index] #вес и цена каждого из предметов\n",
        "  r_limit = limits[item_index][1] #сколько максимум мы можем положить предметов\n",
        "  total_u = min(r_limit, int((iterations-1)*step/wi))\n",
        "  # print(wi, pi, r_limit)\n",
        "  text += f\"\\n\\n##Stage {item_index+1}\\n\"\n",
        "  i = num_items-item_index\n",
        "  text += f\"|i|X{i}\"\n",
        "  for j in range(total_u+1):\n",
        "    text += f\"|U{i}={j}\"\n",
        "  text += f\"|F(x)*|U{i}*,Pi|\\n\"\n",
        "  text += \"|-|-\"\n",
        "  for j in range(total_u+1):\n",
        "    text += \"|-\"\n",
        "  text += \"|-|-|\\n\"\n",
        "  for i in range(iterations): #проход по строкам таблицы в тетради\n",
        "    xi = i*step #сколько у нас сейчас доступно веса\n",
        "    text += f\"|{i}|{round(xi,4)}|\"\n",
        "    ui = 1 #количество предметов\n",
        "    max_f = answers[item_index][i][0] #max_f - наибольшее значение ценности f(x)*\n",
        "    max_u = [(0, i)] #количество при наибольшем значении ценности u*\n",
        "    text += f\"{max_f}|\"\n",
        "    while (ui*wi<=xi and ui<=r_limit):\n",
        "      prev_index = int(i-ui*wi/step) # индекс для значения f(x) с предыдушего этапа\n",
        "      fi = ui*pi + answers[item_index][prev_index][0] #текущее значение функции + с предыдущего этапа\n",
        "      text += f\"{fi}|\"\n",
        "      if max_f < fi:\n",
        "        max_f = fi\n",
        "        max_u = [(ui, prev_index)]\n",
        "      elif max_f == fi:\n",
        "        max_u.append((ui, prev_index))\n",
        "      ui+=1\n",
        "    temp.append([max_f,max_u])\n",
        "    for j in range(ui,total_u+1):\n",
        "      text += \"-|\"\n",
        "    # if total_u-ui>0 or True:\n",
        "      # text += \"|\"\n",
        "    text += f\"{max_f}|{', '.join(map(str,max_u))}|\\n\"\n",
        "\n",
        "  answers.append(temp)\n",
        "\n",
        "printmd(text) "
      ],
      "metadata": {
        "id": "Ar1Z3ZJyjXsg",
        "colab": {
          "base_uri": "https://localhost:8080/"
        },
        "outputId": "dbe883ab-6034-405c-8314-c9014388c710"
      },
      "execution_count": null,
      "outputs": [
        {
          "output_type": "display_data",
          "data": {
            "text/plain": [
              "<IPython.core.display.Markdown object>"
            ],
            "text/markdown": "\n\n##Stage 1\n|i|X3|U3=0|F(x)*|U3*,Pi|\n|-|-|-|-|-|\n|0|0.0|0|0|(0, 0)|\n|1|0.1|0|0|(0, 1)|\n|2|0.2|0|0|(0, 2)|\n|3|0.3|0|0|(0, 3)|\n\n\n##Stage 2\n|i|X2|U2=0|U2=1|F(x)*|U2*,Pi|\n|-|-|-|-|-|-|\n|0|0.0|0|-|0|(0, 0)|\n|1|0.1|0|-|0|(0, 1)|\n|2|0.2|0|-|0|(0, 2)|\n|3|0.3|0|40.0|40.0|(1, 0)|\n\n\n##Stage 3\n|i|X1|U1=0|U1=1|F(x)*|U1*,Pi|\n|-|-|-|-|-|-|\n|0|0.0|0|-|0|(0, 0)|\n|1|0.1|0|-|0|(0, 1)|\n|2|0.2|0|31.0|31.0|(1, 0)|\n|3|0.3|40.0|31.0|40.0|(0, 3)|\n"
          },
          "metadata": {}
        }
      ]
    },
    {
      "cell_type": "markdown",
      "source": [
        "##Ответ"
      ],
      "metadata": {
        "id": "lZ2SW3n1JkXG"
      }
    },
    {
      "cell_type": "code",
      "source": [
        "#функция, которая возвращает массив с ответами (сколько каждого предмета нужно взять)\n",
        "def count_items(x_index, item_index):\n",
        "  result = []\n",
        "  ways = answers[item_index][x_index][1]\n",
        "  if item_index == 1:\n",
        "    for way in ways:\n",
        "      result.append([way[0]])\n",
        "  else:\n",
        "    for way in ways:\n",
        "      ui, next_index = way\n",
        "      temp = count_items(next_index,item_index-1)\n",
        "      for x in temp:\n",
        "        x.append(ui)\n",
        "      result += temp\n",
        "  return result"
      ],
      "metadata": {
        "id": "vtVmrTpa3SZ2"
      },
      "execution_count": null,
      "outputs": []
    },
    {
      "cell_type": "code",
      "source": [
        "text = \"\"\n",
        "max_index = -1\n",
        "for i,x in enumerate(answers[-1]):\n",
        "  if x[0] == max_f:\n",
        "    max_index = i\n",
        "    break\n",
        "result = count_items(max_index, num_items)\n",
        "for i in range(num_items):\n",
        "  l_lim = limits[i][0]\n",
        "  for x in result:\n",
        "    x[i]+=l_lim\n",
        "text += \"|№|\"\n",
        "for i in range(num_items):\n",
        "  text += f\"{i}|\"\n",
        "text += \"\\n|-:|\"\n",
        "for i in range(num_items):\n",
        "  text += f\"-|\"\n",
        "text += \"\\n|**Weight**|\"\n",
        "for x in items:\n",
        "  text += f\"{x[0]}|\"\n",
        "text += \"\\n|**Price**|\"\n",
        "for x in items:\n",
        "  text += f\"{x[1]}|\"\n",
        "\n",
        "for i in range(len(result)):\n",
        "  text += f\"\\n|**Solution {i+1}**|\"\n",
        "  text += '|'.join(map(str,result[i]))\n",
        "  text += '|'\n",
        "\n",
        "final_price = 0\n",
        "final_weight = 0\n",
        "for i, ui in enumerate(result[0]):\n",
        "  wi, pi = items[i]\n",
        "  final_price += pi*ui\n",
        "  final_weight += wi*ui\n",
        "\n",
        "text += '\\n\\n## Results\\n'\n",
        "text += '|Final price|Final weight|\\n'\n",
        "text += '|:-:|:-:|\\n'\n",
        "text += f\"|{final_price}|{final_weight}/{real_weight}|\"\n",
        "\n",
        "printmd(text)"
      ],
      "metadata": {
        "colab": {
          "base_uri": "https://localhost:8080/",
          "height": 255
        },
        "id": "d1XwthIrj7YT",
        "outputId": "1a8c2ed4-96ad-4d24-afb3-27695ba52d0f"
      },
      "execution_count": null,
      "outputs": [
        {
          "output_type": "display_data",
          "data": {
            "text/plain": [
              "<IPython.core.display.Markdown object>"
            ],
            "text/markdown": "|№|0|1|2|\n|-:|-|-|-|\n|**Weight**|0.1|0.3|0.2|\n|**Price**|14.0|40.0|31.0|\n|**Solution 1**|1|2|0|\n\n## Results\n|Final price|Final weight|\n|:-:|:-:|\n|94.0|0.7/0.7|"
          },
          "metadata": {}
        }
      ]
    }
  ]
}